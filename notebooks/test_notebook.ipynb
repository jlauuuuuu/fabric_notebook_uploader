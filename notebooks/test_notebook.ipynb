{
    "nbformat": 4,
    "nbformat_minor": 5,
    "cells": [
        {
            "cell_type": "code",
            "source": [
                "# Welcome to your new notebook\n# Type here in the cell editor to add code!\n"
            ],
            "execution_count": null,
            "outputs": [],
            "metadata": {}
        },
        {
            "cell_type": "markdown",
            "source": [
                "This is a sample Jupyter notebook created to demonstrate the upload process to Microsoft Fabric.\n\nYou can add more cells and content as needed."
            ],
            "metadata": {}
        },
        {
            "cell_type": "code",
            "source": [
                "print(\"hello, world!\")"
            ],
            "execution_count": null,
            "outputs": [],
            "metadata": {}
        }
    ],
    "metadata": {
        "language_info": {
            "name": "python"
        }
    }
}