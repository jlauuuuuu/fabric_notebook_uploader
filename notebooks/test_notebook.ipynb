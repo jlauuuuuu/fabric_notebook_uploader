{
    "cells": [
        {
            "cell_type": "code",
            "execution_count": 1,
            "metadata": {},
            "outputs": [],
            "source": [
                "# Welcome to your new notebook\n",
                "# Type here in the cell editor to add code!\n"
            ]
        },
        {
            "cell_type": "code",
            "execution_count": null,
            "id": "b1a492d5",
            "metadata": {},
            "outputs": [],
            "source": []
        },
        {
            "cell_type": "markdown",
            "metadata": {},
            "source": [
                "This is a sample Jupyter notebook created to demonstrate the upload process to Microsoft Fabric.\n",
                "\n",
                "You can add more cells and content as needed."
            ]
        },
        {
            "cell_type": "code",
            "execution_count": 2,
            "metadata": {},
            "outputs": [
                {
                    "name": "stdout",
                    "output_type": "stream",
                    "text": [
                        "hello, world!\n"
                    ]
                }
            ],
            "source": [
                "print(\"hello, world!\")"
            ]
        }
    ],
    "metadata": {
        "kernelspec": {
            "display_name": ".venv",
            "language": "python",
            "name": "python3"
        },
        "language_info": {
            "codemirror_mode": {
                "name": "ipython",
                "version": 3
            },
            "file_extension": ".py",
            "mimetype": "text/x-python",
            "name": "python",
            "nbconvert_exporter": "python",
            "pygments_lexer": "ipython3",
            "version": "3.12.10"
        }
    },
    "nbformat": 4,
    "nbformat_minor": 5
}
