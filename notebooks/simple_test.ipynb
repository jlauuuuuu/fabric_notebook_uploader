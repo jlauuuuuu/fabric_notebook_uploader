{
 "cells": [
  {
   "cell_type": "markdown",
   "id": "931feb6f",
   "metadata": {},
   "source": [
    "# Simple Test Notebook\n",
    "This notebook tests basic execution without external dependencies."
   ]
  },
  {
   "cell_type": "code",
   "execution_count": null,
   "id": "5f06f5ba",
   "metadata": {},
   "outputs": [],
   "source": [
    "# Simple Python code that should work\n",
    "print(\"Hello from Fabric notebook!\")\n",
    "print(f\"Python version info available\")\n",
    "\n",
    "# Basic math\n",
    "result = 2 + 2\n",
    "print(f\"2 + 2 = {result}\")"
   ]
  },
  {
   "cell_type": "code",
   "execution_count": null,
   "id": "b333da87",
   "metadata": {},
   "outputs": [],
   "source": [
    "# Test some built-in imports\n",
    "import os\n",
    "import datetime\n",
    "\n",
    "print(f\"Current timestamp: {datetime.datetime.now()}\")\n",
    "print(\"✅ Basic execution test completed successfully!\")"
   ]
  }
 ],
 "metadata": {
  "language_info": {
   "name": "python"
  }
 },
 "nbformat": 4,
 "nbformat_minor": 5
}
