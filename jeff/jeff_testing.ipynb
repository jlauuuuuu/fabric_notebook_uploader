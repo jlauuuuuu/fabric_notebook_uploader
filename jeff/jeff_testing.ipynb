{
 "cells": [
  {
   "cell_type": "markdown",
   "id": "08b2a936",
   "metadata": {},
   "source": [
    "# Data Agent Testing Notebook\n",
    "\n",
    "You can test the published data agents from your local machine using the External Fabric Data Agent client (developed by Microsoft)\n",
    "\n",
    "The links to github, documentation, and examples are below:\n",
    "\n",
    "https://github.com/microsoft/fabric_data_agent_client\n"
   ]
  },
  {
   "cell_type": "code",
   "execution_count": null,
   "id": "877bf53b",
   "metadata": {},
   "outputs": [],
   "source": [
    "# Importing Variables from config.json\n",
    "import json\n",
    "from pathlib import Path\n",
    "\n",
    "# Path to config file (same dir as notebook)\n",
    "config_path = Path(\"config.json\")\n",
    "\n",
    "# Load config values\n",
    "with open(config_path, \"r\") as f:\n",
    "    config = json.load(f)\n",
    "\n",
    "# Extract values\n",
    "tenant_id = config[\"tenant_id\"]\n",
    "data_agent_url = config[\"agent_url\"]"
   ]
  },
  {
   "cell_type": "code",
   "execution_count": null,
   "id": "f08878fc",
   "metadata": {},
   "outputs": [],
   "source": [
    "# Initialising Client\n",
    "from dad_fw import FabricDataAgentClient\n",
    "\n",
    "# Initialize client\n",
    "client = FabricDataAgentClient(\n",
    "    tenant_id=tenant_id,\n",
    "    data_agent_url=data_agent_url\n",
    ")\n",
    "\n",
    "# Ask a simple question\n",
    "response = client.ask(\"What data is available in the lakehouse?\")\n",
    "print(response)"
   ]
  }
 ],
 "metadata": {
  "kernelspec": {
   "display_name": ".venv",
   "language": "python",
   "name": "python3"
  },
  "language_info": {
   "codemirror_mode": {
    "name": "ipython",
    "version": 3
   },
   "file_extension": ".py",
   "mimetype": "text/x-python",
   "name": "python",
   "nbconvert_exporter": "python",
   "pygments_lexer": "ipython3",
   "version": "3.12.10"
  }
 },
 "nbformat": 4,
 "nbformat_minor": 5
}
