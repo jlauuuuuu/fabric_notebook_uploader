{
 "cells": [
  {
   "cell_type": "code",
   "execution_count": null,
   "id": "f08878fc",
   "metadata": {},
   "outputs": [
    {
     "name": "stdout",
     "output_type": "stream",
     "text": [
      "Initializing Fabric Data Agent Client...\n",
      "Tenant ID: 5e4e864c-3b82-4180-a515-5c8fb718fff8\n",
      "Data Agent URL: https://https://api.fabric.microsoft.com/v1/workspaces/c7d1ecc1-d8fa-477c-baf1-47528abf9fe5/aiskills/e5517fd4-9bf6-408a-a92e-eb71e4723ed6/aiassistant/openai\n",
      "\n",
      "🔐 Starting authentication...\n",
      "A browser window will open for you to sign in to your Microsoft account.\n",
      "🔄 Refreshing authentication token...\n",
      "✅ Token obtained, expires at: Fri Oct 10 18:11:42 2025\n",
      "✅ Authentication successful!\n",
      "\n",
      "❓ Asking: What data is available in the lakehouse?\n",
      "❌ Error calling data agent: Connection error.\n",
      "Error: Connection error.\n"
     ]
    }
   ],
   "source": [
    "from fabric_data_agent_client import FabricDataAgentClient\n",
    "\n",
    "# Initialize the client (will open browser for authentication)\n",
    "client = FabricDataAgentClient(\n",
    "    tenant_id=\"5e4e864c-3b82-4180-a515-5c8fb718fff8\",\n",
    "    data_agent_url=\"https://api.fabric.microsoft.com/v1/workspaces/c7d1ecc1-d8fa-477c-baf1-47528abf9fe5/aiskills/d4c24588-3a18-4de8-8f32-b815b46b7cc8/aiassistant/openai\"\n",
    ")\n",
    "\n",
    "# Ask a simple question\n",
    "response = client.ask(\"What data is available in the lakehouse?\")\n",
    "print(response)"
   ]
  },
  {
   "cell_type": "code",
   "execution_count": null,
   "id": "4dc6f028",
   "metadata": {},
   "outputs": [],
   "source": []
  }
 ],
 "metadata": {
  "kernelspec": {
   "display_name": ".venv",
   "language": "python",
   "name": "python3"
  },
  "language_info": {
   "codemirror_mode": {
    "name": "ipython",
    "version": 3
   },
   "file_extension": ".py",
   "mimetype": "text/x-python",
   "name": "python",
   "nbconvert_exporter": "python",
   "pygments_lexer": "ipython3",
   "version": "3.12.10"
  }
 },
 "nbformat": 4,
 "nbformat_minor": 5
}
