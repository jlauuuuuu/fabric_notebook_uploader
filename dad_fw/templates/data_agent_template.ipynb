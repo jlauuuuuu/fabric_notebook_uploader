{
  "cells": [
    {
      "cell_type": "markdown",
      "id": "da14421b-b20c-49d8-9ed6-53eedfaad93c",
      "metadata": {
        "nteract": {
          "transient": {
            "deleting": false
          }
        }
      },
      "source": [
        "# Creating Fabric Data Agent via Code"
      ]
    },
    {
      "cell_type": "code",
      "execution_count": null,
      "id": "d45e5245",
      "metadata": {},
      "outputs": [],
      "source": [
        "%%configure\n",
        "{\n",
        "    \"defaultLakehouse\": {  \n",
        "        \"name\": \"data_agent_lh\",\n",
        "    }\n",
        "}"
      ]
    },
    {
      "cell_type": "markdown",
      "id": "052b5408-3b39-4c1d-8e0b-65da3c9f9151",
      "metadata": {
        "microsoft": {
          "language": "python",
          "language_group": "synapse_pyspark"
        },
        "nteract": {
          "transient": {
            "deleting": false
          }
        }
      },
      "source": [
        "#### Imports"
      ]
    },
    {
      "cell_type": "code",
      "execution_count": null,
      "id": "0a265275-e023-403d-840e-0c259b5be32b",
      "metadata": {
        "microsoft": {
          "language": "python",
          "language_group": "synapse_pyspark"
        }
      },
      "outputs": [],
      "source": [
        "from fabric.dataagent.client import (\n",
        "    FabricDataAgentManagement,\n",
        "    create_data_agent,\n",
        "    delete_data_agent,\n",
        ")"
      ]
    },
    {
      "cell_type": "markdown",
      "id": "5196965f-c967-4ff0-bd58-ab50ca387ddb",
      "metadata": {
        "microsoft": {
          "language": "python",
          "language_group": "synapse_pyspark"
        },
        "nteract": {
          "transient": {
            "deleting": false
          }
        }
      },
      "source": [
        "##### Configs for Data Agent Name and Data Sources"
      ]
    },
    {
      "cell_type": "code",
      "execution_count": null,
      "id": "c6160bdc-df77-481a-811b-531d7c3c637f",
      "metadata": {
        "microsoft": {
          "language": "python",
          "language_group": "synapse_pyspark"
        }
      },
      "outputs": [],
      "source": [
        "# Configuration\n",
        "data_agent_name = \"test_data_agent1234\"\n",
        "lakehouse_name = \"data_agent_lh\"\n",
        "table_names = [ \"BST10_ACTIVE_PROJECTS\"\n",
        "                ,\"TPF_DUMP\"]"
      ]
    },
    {
      "cell_type": "code",
      "execution_count": null,
      "id": "7f2bb493-cf60-4738-ba2f-c36f9a248e8b",
      "metadata": {
        "microsoft": {
          "language": "python",
          "language_group": "synapse_pyspark"
        }
      },
      "outputs": [],
      "source": [
        "# Create\n",
        "data_agent = create_data_agent(data_agent_name)\n",
        "data_agent = FabricDataAgentManagement(data_agent_name)"
      ]
    },
    {
      "cell_type": "code",
      "execution_count": null,
      "id": "0b8b3aa7-ec77-499c-8828-fa4363cc4f6e",
      "metadata": {
        "microsoft": {
          "language": "python",
          "language_group": "synapse_pyspark"
        }
      },
      "outputs": [],
      "source": [
        "# Update the data agent's configuration with detailed instructions for query expansion and retrieve the updated configuration\n",
        "data_agent.update_configuration(\n",
        "    instructions= \"\"\"\n",
        "    You are a helpful and focused data agent assisting users querying a Microsoft Fabric Lakehouse.\n",
        "\n",
        "    The Lakehouse contains two tables:\n",
        "    1. `TPF_DUMP` \u2014 time-series financial metrics at the project level (monthly granularity).\n",
        "    2. `BST10_ACTIVE_PROJECTS` \u2014 metadata about active projects (client, start/end dates, etc.).\n",
        "\n",
        "    These tables are joined using:\n",
        "    `TPF_DUMP.PROJECT_CODE = BST10_ACTIVE_PROJECTS.Proj:_Project_Code`\n",
        "\n",
        "    Important behavior guidelines:\n",
        "    - Respond only to questions answerable by the data. If a question is ambiguous or not supported, ask for clarification.\n",
        "    - Format your SQL queries in **T-SQL** syntax, compatible with Microsoft Fabric.\n",
        "    - Use the join only when required (e.g., when project name or client name is requested).\n",
        "    - Fiscal period (`FISCPER`) is in `YYYYMM` format and **shifted 6 months forward**. For example, `202304` represents **October 2022**. Consider this when calculating dates.\n",
        "    - Be aware that `TPF_DUMP` may contain null values and scientific notation (e.g., `0E-9`) \u2014 handle these gracefully.\n",
        "    - Prioritize `TD_` prefixed columns (e.g., `TD_BUDGET_EFFORT`, `TD_VARIANCE`) for effort and variance-based calculations.\n",
        "\n",
        "    Respond with **concise summaries and well-structured SQL**. Avoid overly technical explanations unless requested. Include fiscal period conversion logic in queries where time context is needed.\n",
        "\n",
        "    Examples of supported question types:\n",
        "    - What is the total TD budget effort in a given fiscal period?\n",
        "    - List all projects with a TD variance greater than a threshold.\n",
        "    - Show WIP balances for the last 3 fiscal periods.\n",
        "    - Join with project metadata (name, client) when requested.\n",
        "\n",
        "    Do not make up fields or relationships that are not present in the schema.\n",
        "\n",
        "    Tables:\n",
        "    - TPF_DUMP (metrics)\n",
        "    - BST10_ACTIVE_PROJECTS (project metadata)\n",
        "\n",
        "    Default join key: `PROJECT_CODE` = `Proj:_Project_Code`\n",
        "\n",
        "    Make sure when any date is used, you convert it into its fiscal period form. Only use fiscal period form in questions and answers if the format is YYYYMM.\n",
        "    \"\"\",\n",
        ")"
      ]
    },
    {
      "cell_type": "code",
      "execution_count": null,
      "id": "c55f3b6f-f413-4e5e-a822-4e3a02bbac96",
      "metadata": {
        "microsoft": {
          "language": "python",
          "language_group": "synapse_pyspark"
        }
      },
      "outputs": [],
      "source": [
        "def safe_get_datasources(): # add_datasource calls get_datasources, which doesn't handle None types.... This is a modified function which handles this\n",
        "    config = data_agent._client.get_configuration()\n",
        "    data_sources = config.value.get(\"dataSources\") or []\n",
        "    return [data_agent._client.get_datasource(ds[\"id\"]) for ds in data_sources]\n",
        "\n",
        "data_agent._client.get_datasources = safe_get_datasources\n",
        "\n",
        "data_agent.add_datasource(lakehouse_name, type=\"lakehouse\")"
      ]
    },
    {
      "cell_type": "code",
      "execution_count": null,
      "id": "bc0aef21-0505-4630-a36a-1f2546496d3f",
      "metadata": {
        "microsoft": {
          "language": "python",
          "language_group": "synapse_pyspark"
        }
      },
      "outputs": [],
      "source": [
        "datasource = data_agent.get_datasources()[0]"
      ]
    },
    {
      "cell_type": "code",
      "execution_count": null,
      "id": "c5127a22-c2f8-418d-b0c2-70b523627309",
      "metadata": {
        "microsoft": {
          "language": "python",
          "language_group": "synapse_pyspark"
        }
      },
      "outputs": [],
      "source": [
        "for table_name in table_names:\n",
        "    datasource.select(\"dbo\", table_name)"
      ]
    },
    {
      "cell_type": "code",
      "execution_count": null,
      "id": "5284ec27-ba3b-4a3f-9073-aede3f472ebf",
      "metadata": {
        "jupyter": {
          "outputs_hidden": true
        },
        "microsoft": {
          "language": "python",
          "language_group": "synapse_pyspark"
        }
      },
      "outputs": [],
      "source": [
        "datasource.pretty_print()"
      ]
    },
    {
      "cell_type": "markdown",
      "id": "f3da630a-2fc4-419e-b30b-a11ae0fcc369",
      "metadata": {
        "microsoft": {
          "language": "python",
          "language_group": "synapse_pyspark"
        },
        "nteract": {
          "transient": {
            "deleting": false
          }
        }
      },
      "source": [
        "Notes for data source"
      ]
    },
    {
      "cell_type": "code",
      "execution_count": null,
      "id": "b5435a96-c60e-4b56-977f-cf7d23351fd0",
      "metadata": {
        "jupyter": {
          "source_hidden": false
        },
        "microsoft": {
          "language": "python",
          "language_group": "synapse_pyspark"
        }
      },
      "outputs": [],
      "source": [
        "ds_notes =\"\"\"\n",
        "This Lakehouse contains project delivery and financial data from two joined tables. It is used to analyze budget, variance, effort, and WIP metrics across active projects. Data is refreshed monthly and already filtered to only include active projects.\n",
        "\n",
        "TABLE 1: TPF_DUMP - Time-Series Financial Metrics\n",
        "Each row represents a project at a specific fiscal period. Contains numeric metrics in string or scientific notation format.\n",
        "\n",
        "PROJECT_CODE (string): join key\n",
        "\n",
        "FISCPER (string, format YYYYMM): fiscal period, shifted 6 months into the future (e.g., 202304 = October 2022)\n",
        "\n",
        "TD_BUDGET_EFFORT (string): to-date budgeted effort\n",
        "\n",
        "TD_VARIANCE (string): to-date variance\n",
        "\n",
        "TD_EFF_EFFORT_AT_COMP (string): estimate at completion\n",
        "\n",
        "WIP_BALANCE, R_BALANCE, VARIANCE (string): financial balances\n",
        "\n",
        "WIP_AGEING1/2, RB_AGEING1/2/3 (string): aged balances\n",
        "\n",
        "Notes:\n",
        "\n",
        "Contains many nulls and \"0E-9\" (treat as 0)\n",
        "\n",
        "Use CAST(... AS FLOAT) for aggregations\n",
        "\n",
        "Use FISCPER for period-based filtering or sorting\n",
        "\n",
        "TABLE 2: BST10_ACTIVE_PROJECTS - Project Metadata\n",
        "Each row is a unique active project with descriptive info.\n",
        "\n",
        "Proj:_Project_Code (string): primary key for joining with TPF_DUMP\n",
        "\n",
        "Proj:_Project_Name (string): project label\n",
        "\n",
        "Proj:_Client_Name (string): client or funding agency\n",
        "\n",
        "Proj:_Start_Date / Proj:_End_Date (date): project duration\n",
        "\n",
        "Proj:_Service_Line (string): business domain\n",
        "\n",
        "Proj:_Market_Segment_Code (string): vertical or classification\n",
        "\n",
        "Proj:_Project_Currency, Proj:_Company_Currency (string): currency codes\n",
        "\n",
        "Proj:_Manager_Code (string): owner or responsible staff\n",
        "\n",
        "Proj:_Has_Chargeable, Proj:_Has_Proposal (flag): 1 = true, blank/0 = false\n",
        "\n",
        "Notes:\n",
        "\n",
        "All projects are already active\n",
        "\n",
        "Use for grouping/filtering by client, market, or date range\n",
        "\n",
        "RELATIONSHIP:\n",
        "Join TPF_DUMP.PROJECT_CODE = BST10_ACTIVE_PROJECTS.Proj:_Project_Code\n",
        "(one-to-many, since financials are time-based)\n",
        "\n",
        "TIPS FOR THE AGENT:\n",
        "\n",
        "Many numeric fields contain null or \"0E-9\" \u2192 handle with care\n",
        "\n",
        "Use TD_ columns for effort/variance-related analysis\n",
        "\n",
        "Use [Proj:_...] columns for metadata grouping or labels\n",
        "\n",
        "Use FISCPER as the time filter, remembering the 6-month shift\n",
        "\n",
        "Use CAST for all aggregations on numeric columns\n",
        "\n",
        "Useful metadata grouping columns:\n",
        "\n",
        "Proj:_Client_Name\n",
        "\n",
        "Proj:_Service_Line\n",
        "\n",
        "Proj:_Market_Segment_Code\n",
        "\n",
        "Proj:_Start_Date\n",
        "\n",
        "Proj:_Manager_Code\n",
        "\n",
        "We can group projects by different details such as by Manager Code, Start Dates etc. pretty much anything in the BST10_ACTIVE_PROJECTS Table\n",
        "\"\"\"\n"
      ]
    },
    {
      "cell_type": "code",
      "execution_count": null,
      "id": "3dfe4fa5-c744-417b-acfd-0ea071c10ae3",
      "metadata": {
        "microsoft": {
          "language": "python",
          "language_group": "synapse_pyspark"
        }
      },
      "outputs": [],
      "source": [
        "datasource.update_configuration(instructions=ds_notes)\n",
        "datasource.get_configuration()[\"additional_instructions\"]"
      ]
    },
    {
      "cell_type": "code",
      "execution_count": null,
      "id": "ea8f5505-8214-4040-b52d-9525be49e0f4",
      "metadata": {
        "microsoft": {
          "language": "python",
          "language_group": "synapse_pyspark"
        }
      },
      "outputs": [],
      "source": [
        "json_key_pairs_dict = {\n",
        "    \"What is the total TD budget effort across all projects in fiscal period 202304?\": \"-- Enter SQL query\\r\\nSELECT \\r\\n    SUM(CAST(TD_BUDGET_EFFORT AS FLOAT)) AS total_td_budget_effort\\r\\nFROM TPF_DUMP\\r\\nWHERE FISCPER = '202304';\",\n",
        "    \"List project names and TD variance for all projects with TD variance over 5000 in fiscal period 202305.\": \"-- Enter SQL query\\r\\nSELECT \\r\\n    B.[Proj:_Project_Name],\\r\\n    A.TD_VARIANCE,\\r\\n    A.FISCPER\\r\\nFROM TPF_DUMP A\\r\\nJOIN BST10_ACTIVE_PROJECTS B\\r\\n    ON A.PROJECT_CODE = B.[Proj:_Project_Code]\\r\\nWHERE A.FISCPER = '202305'\\r\\n  AND CAST(A.TD_VARIANCE AS FLOAT) > 5000;\",\n",
        "    \"Show top 5 projects with the highest WIP balance in fiscal period 202304.\": \"-- Enter SQL query\\r\\nSELECT TOP 5\\r\\n    B.[Proj:_Project_Name],\\r\\n    CAST(A.WIP_BALANCE AS FLOAT) AS wip_balance,\\r\\n    A.FISCPER\\r\\nFROM TPF_DUMP AS A\\r\\nJOIN BST10_ACTIVE_PROJECTS AS B\\r\\n    ON A.PROJECT_CODE = B.[Proj:_Project_Code]\\r\\nWHERE A.FISCPER = '202304'\\r\\nORDER BY CAST(A.WIP_BALANCE AS FLOAT) DESC;\",\n",
        "    \"How many active projects are there?\": \"-- Enter SQL query\\r\\nSELECT COUNT(*) AS active_project_count FROM BST10_ACTIVE_PROJECTS;\",\n",
        "    \"Show all project names and their start and end dates.\": \"-- Enter SQL query\\r\\nSELECT \\r\\n  [Proj:_Project_Name], \\r\\n  [Proj:_Start_Date], \\r\\n  [Proj:_End_Date]\\r\\nFROM BST10_ACTIVE_PROJECTS;\",\n",
        "    \"Get the list of distinct fiscal periods available in the dataset.\": \"-- Enter SQL query\\r\\nSELECT DISTINCT FISCPER FROM TPF_DUMP ORDER BY FISCPER;\",\n",
        "    \"Which projects had a TD variance below zero in fiscal period 202304?\": \"-- Enter SQL query\\r\\nSELECT \\r\\n    B.[Proj:_Project_Name], \\r\\n    A.TD_VARIANCE\\r\\nFROM TPF_DUMP A\\r\\nJOIN BST10_ACTIVE_PROJECTS B\\r\\n  ON A.PROJECT_CODE = B.[Proj:_Project_Code]\\r\\nWHERE A.FISCPER = '202304'\\r\\n  AND CAST(A.TD_VARIANCE AS FLOAT) < 0;\",\n",
        "    \"List the top 3 clients by number of active projects.\": \"-- Enter SQL query\\r\\nSELECT TOP 3\\r\\n    [Proj:_Client_Name], \\r\\n    COUNT(*) AS project_count\\r\\nFROM BST10_ACTIVE_PROJECTS\\r\\nGROUP BY [Proj:_Client_Name]\\r\\nORDER BY project_count DESC;\",\n",
        "    \"Find all projects in the 'Wastewater Treatment & Recycling' service line.\": \"-- Enter SQL query\\r\\nSELECT \\r\\n    [Proj:_Project_Name], \\r\\n    [Proj:_Service_Line]\\r\\nFROM BST10_ACTIVE_PROJECTS\\r\\nWHERE [Proj:_Service_Line] = 'Wastewater Treatment & Recycling';\",\n",
        "    \"Show total R_BALANCE for fiscal period 202304.\": \"-- Enter SQL query\\r\\nSELECT \\r\\n    SUM(CAST(R_BALANCE AS FLOAT)) AS total_r_balance\\r\\nFROM TPF_DUMP\\r\\nWHERE FISCPER = '202304';\",\n",
        "    \"Get average TD_EFF_EFFORT_AT_COMP across all projects for fiscal period 202305.\": \"-- Enter SQL query\\r\\nSELECT \\r\\n    AVG(CAST(TD_EFF_EFFORT_AT_COMP AS FLOAT)) AS avg_td_effort\\r\\nFROM TPF_DUMP\\r\\nWHERE FISCPER = '202305';\",\n",
        "    \"Which projects had a WIP balance greater than 1000 in fiscal period 202304?\": \"-- Enter SQL query\\r\\nSELECT \\r\\n    B.[Proj:_Project_Name], \\r\\n    A.WIP_BALANCE\\r\\nFROM TPF_DUMP A\\r\\nJOIN BST10_ACTIVE_PROJECTS B\\r\\n  ON A.PROJECT_CODE = B.[Proj:_Project_Code]\\r\\nWHERE A.FISCPER = '202304'\\r\\n  AND CAST(A.WIP_BALANCE AS FLOAT) > 1000;\",\n",
        "    \"What columns are available in the TPF_DUMP table?\": \"-- Enter SQL query\\r\\nSELECT COLUMN_NAME FROM INFORMATION_SCHEMA.COLUMNS WHERE TABLE_NAME = 'TPF_DUMP';\",\n",
        "    \"What columns are available in the BST10_ACTIVE_PROJECTS table?\": \"-- Enter SQL query\\r\\nSELECT COLUMN_NAME FROM INFORMATION_SCHEMA.COLUMNS WHERE TABLE_NAME = 'BST10_ACTIVE_PROJECTS';\"\n",
        "}\n",
        "datasource.add_fewshots(json_key_pairs_dict)"
      ]
    },
    {
      "cell_type": "code",
      "execution_count": null,
      "id": "cf4940ae-ee7d-437d-8b8a-23a4e6f2e288",
      "metadata": {
        "microsoft": {
          "language": "python",
          "language_group": "synapse_pyspark"
        }
      },
      "outputs": [],
      "source": [
        "datasource.get_fewshots()"
      ]
    },
    {
      "cell_type": "code",
      "execution_count": null,
      "id": "ecf0b8f2-5a85-404a-892a-9ba6a356c00b",
      "metadata": {
        "microsoft": {
          "language": "python",
          "language_group": "synapse_pyspark"
        }
      },
      "outputs": [],
      "source": [
        "# # delete data agent\n",
        "# delete_data_agent(data_agent_name)"
      ]
    }
  ],
  "metadata": {
    "dependencies": {
      "lakehouse": {
        "default_lakehouse": "123aafb5-2b8b-405f-b84d-b60a6e8df469",
        "default_lakehouse_name": "data_agent_lh",
        "default_lakehouse_workspace_id": "c7d1ecc1-d8fa-477c-baf1-47528abf9fe5",
        "known_lakehouses": [
          {
            "id": "123aafb5-2b8b-405f-b84d-b60a6e8df469"
          }
        ]
      }
    },
    "kernel_info": {
      "name": "synapse_pyspark"
    },
    "kernelspec": {
      "display_name": "synapse_pyspark",
      "name": "synapse_pyspark"
    },
    "language_info": {
      "name": "python"
    },
    "microsoft": {
      "language": "python",
      "language_group": "synapse_pyspark",
      "ms_spell_check": {
        "ms_spell_check_language": "en"
      }
    },
    "nteract": {
      "version": "nteract-front-end@1.0.0"
    },
    "spark_compute": {
      "compute_id": "/trident/default",
      "session_options": {
        "conf": {
          "spark.synapse.nbs.session.timeout": "1200000"
        }
      }
    },
    "widgets": {}
  },
  "nbformat": 4,
  "nbformat_minor": 5
}